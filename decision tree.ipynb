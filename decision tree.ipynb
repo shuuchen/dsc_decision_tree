{
 "cells": [
  {
   "cell_type": "code",
   "execution_count": 19,
   "metadata": {
    "collapsed": false
   },
   "outputs": [],
   "source": [
    "import numpy as np\n",
    "\n",
    "class Node():\n",
    "    \n",
    "    def __init__(self, data, parent=None):\n",
    "        self.data = data\n",
    "        self.value = np.mean(data[:, -1])\n",
    "        self.std = np.std(data[:, -1])\n",
    "        \n",
    "        self.split_feat_idx = None\n",
    "        self.split_feat_value = None\n",
    "        \n",
    "        self.left = None\n",
    "        self.right = None\n",
    "        self.parent = parent"
   ]
  },
  {
   "cell_type": "code",
   "execution_count": 63,
   "metadata": {
    "collapsed": false
   },
   "outputs": [],
   "source": [
    "class Tree():\n",
    "\n",
    "    def __init__(self, data, criterion='mse', error_thres=0.1, split_fold_n=10):\n",
    "        self.root = Node(data)\n",
    "        self.current_node = self.root\n",
    "        self.criterion = criterion\n",
    "        self.error_thres = error_thres\n",
    "        self.split_fold_n = split_fold_n\n",
    "    \n",
    "    def split(self):\n",
    "        current_data = self.current_node.data\n",
    "        current_std = self.current_node.std\n",
    "        \n",
    "        current_std_gain = 0\n",
    "        current_split_value = 0\n",
    "        current_split_pos = [0, 0]\n",
    "        print('<<<<<<<<<<<<<<<<<')\n",
    "        # loop each column of features to search for split position\n",
    "        for i in range(current_data.shape[1] - 1):\n",
    "            \n",
    "            current_data = current_data[current_data[:, i].argsort()]\n",
    "            current_feature = current_data[:, i]\n",
    "            current_y = current_data[:, -1]\n",
    "\n",
    "            self.split_fold_n = len(current_feature) # maybe too slow\n",
    "            interval = int(len(current_feature) / self.split_fold_n)\n",
    "            \n",
    "            for j in range(self.split_fold_n - 1):\n",
    "                split_pos = (j + 1) * interval\n",
    "                \n",
    "                split_std0, split_std1 = np.std(current_y[: split_pos]), np.std(current_y[split_pos:])\n",
    "                \n",
    "                std_gain = current_std - split_std0 - split_std1\n",
    "            \n",
    "                if std_gain > current_std_gain:\n",
    "                    print(std_gain, current_std_gain)\n",
    "                    current_split_pos = [i, split_pos]\n",
    "                    current_split_value = current_feature[split_pos]\n",
    "                    current_std_gain = std_gain\n",
    "        print('>>>>>>>>>>>>>>>>>>>')\n",
    "        # split \n",
    "        self.current_node.split_feat_idx = current_split_pos[0]\n",
    "        self.current_node.split_feat_value = current_split_value\n",
    "        \n",
    "        print('*****', i, current_split_pos[1])\n",
    "        \n",
    "        current_data = current_data[current_data[:, current_split_pos[0]].argsort()]\n",
    "        split_data0, split_data1 = current_data[: current_split_pos[1]], current_data[current_split_pos[1]:]\n",
    "        \n",
    "        node0 = Node(data=split_data0, parent=self.current_node)\n",
    "        node1 = Node(data=split_data1, parent=self.current_node)\n",
    "        \n",
    "        self.current_node.left = node0\n",
    "        self.current_node.right = node1\n",
    "    \n",
    "    def check_split(self):\n",
    "        if len(self.current_node.data) == 1:\n",
    "            return False\n",
    "        \n",
    "        if self.current_node.std < self.error_thres:\n",
    "            return False\n",
    "        \n",
    "        current_node_y = self.current_node.data[:, -1]\n",
    "        \n",
    "        print(current_node_y, '-----')\n",
    "        if len(current_node_y[current_node_y == current_node_y[0]]) == len(current_node_y):\n",
    "            return False\n",
    "        \n",
    "        return True\n",
    "        \n",
    "    def generate(self):\n",
    "        \n",
    "        if not self.check_split():\n",
    "            return\n",
    "        \n",
    "        self.split()\n",
    "        \n",
    "        self.current_node = self.current_node.left\n",
    "        self.generate()\n",
    "        \n",
    "        self.current_node = self.current_node.right\n",
    "        self.generate()\n",
    "    \n",
    "    def reset(self):\n",
    "        self.current_node = self.root\n",
    "    \n",
    "    def predict(self, X):\n",
    "        \n",
    "        self.reset()\n",
    "        \n",
    "        feat_idx, feat_value = self.current_node.split_feat_idx, self.current_node.split_feat_value\n",
    "        \n",
    "        if X[feat_idx] < feat_value:\n",
    "            \n",
    "            if self.current_node.left:\n",
    "                self.current_node = self.current_node.left                \n",
    "                self.predict(X)\n",
    "            else:\n",
    "                return self.current_node.value\n",
    "        else:\n",
    "            \n",
    "            if self.current_node.right:\n",
    "                self.current_node = self.current_node.right\n",
    "                self.predict(X)\n",
    "            else:\n",
    "                return self.current_node.value\n",
    "        \n",
    "    def prune(self):\n",
    "        pass\n",
    "            \n",
    "        "
   ]
  },
  {
   "cell_type": "code",
   "execution_count": 64,
   "metadata": {
    "collapsed": false
   },
   "outputs": [
    {
     "name": "stdout",
     "output_type": "stream",
     "text": [
      "[-1.1493464   0.09131401  0.09668352  0.13651039  0.19403525 -0.12383814\n",
      "  0.26365828  0.41252216  0.44546446  0.47215529 -0.26319138  0.49351799\n",
      "  0.60530013  0.63450933  0.64144608  1.09900119  0.66957978  0.66968122\n",
      "  0.73574834  0.75072053  1.4926134   0.8363043   0.8532893   0.87144496\n",
      "  0.97060533 -0.20183403  0.99131122  0.99472837  0.99825213  0.99999325\n",
      "  1.21570343  0.98769965  0.98591565  0.9159044   0.91406986 -0.51669013\n",
      "  0.8775346   0.87063055  0.86993408  0.86523559  0.37007575  0.78464608\n",
      "  0.63168655  0.53722799  0.45801971  0.08075119  0.43272116  0.34115328\n",
      "  0.26769953  0.20730318  1.34959235 -0.17645185 -0.20918837 -0.24990778\n",
      " -0.28068224 -1.63529379 -0.31247075 -0.31458595 -0.32442911 -0.34965155\n",
      " -0.29371122 -0.46921115 -0.56401144 -0.57215326 -0.57488849 -0.95586361\n",
      " -0.75923066 -0.78043659 -0.85808859 -0.94589863 -0.6730775  -0.94870673\n",
      " -0.97149093 -0.98097408 -0.98568417 -0.20828128 -0.99994398 -0.99703245\n",
      " -0.99170146 -0.9732277 ] -----\n",
      "<<<<<<<<<<<<<<<<<\n",
      "0.009386992174239439 0\n",
      "0.01702047555264745 0.009386992174239439\n",
      ">>>>>>>>>>>>>>>>>>>\n",
      "***** 0 76\n",
      "[-1.1493464   0.09131401  0.09668352  0.13651039  0.19403525 -0.12383814\n",
      "  0.26365828  0.41252216  0.44546446  0.47215529 -0.26319138  0.49351799\n",
      "  0.60530013  0.63450933  0.64144608  1.09900119  0.66957978  0.66968122\n",
      "  0.73574834  0.75072053  1.4926134   0.8363043   0.8532893   0.87144496\n",
      "  0.97060533 -0.20183403  0.99131122  0.99472837  0.99825213  0.99999325\n",
      "  1.21570343  0.98769965  0.98591565  0.9159044   0.91406986 -0.51669013\n",
      "  0.8775346   0.87063055  0.86993408  0.86523559  0.37007575  0.78464608\n",
      "  0.63168655  0.53722799  0.45801971  0.08075119  0.43272116  0.34115328\n",
      "  0.26769953  0.20730318  1.34959235 -0.17645185 -0.20918837 -0.24990778\n",
      " -0.28068224 -1.63529379 -0.31247075 -0.31458595 -0.32442911 -0.34965155\n",
      " -0.29371122 -0.46921115 -0.56401144 -0.57215326 -0.57488849 -0.95586361\n",
      " -0.75923066 -0.78043659 -0.85808859 -0.94589863 -0.6730775  -0.94870673\n",
      " -0.97149093 -0.98097408 -0.98568417 -0.20828128] -----\n",
      "<<<<<<<<<<<<<<<<<\n",
      "0.012133968744266643 0\n",
      ">>>>>>>>>>>>>>>>>>>\n",
      "***** 0 1\n"
     ]
    },
    {
     "ename": "AttributeError",
     "evalue": "'NoneType' object has no attribute 'data'",
     "output_type": "error",
     "traceback": [
      "\u001b[0;31m---------------------------------------------------------------------------\u001b[0m",
      "\u001b[0;31mAttributeError\u001b[0m                            Traceback (most recent call last)",
      "\u001b[0;32m<ipython-input-64-02dbdbccbd5a>\u001b[0m in \u001b[0;36m<module>\u001b[0;34m()\u001b[0m\n\u001b[1;32m      1\u001b[0m \u001b[0mtree\u001b[0m \u001b[0;34m=\u001b[0m \u001b[0mTree\u001b[0m\u001b[0;34m(\u001b[0m\u001b[0mdata\u001b[0m\u001b[0;34m)\u001b[0m\u001b[0;34m\u001b[0m\u001b[0m\n\u001b[0;32m----> 2\u001b[0;31m \u001b[0mtree\u001b[0m\u001b[0;34m.\u001b[0m\u001b[0mgenerate\u001b[0m\u001b[0;34m(\u001b[0m\u001b[0;34m)\u001b[0m\u001b[0;34m\u001b[0m\u001b[0m\n\u001b[0m",
      "\u001b[0;32m<ipython-input-63-9f8311f8b269>\u001b[0m in \u001b[0;36mgenerate\u001b[0;34m(self)\u001b[0m\n\u001b[1;32m     80\u001b[0m         '''\n\u001b[1;32m     81\u001b[0m         \u001b[0mself\u001b[0m\u001b[0;34m.\u001b[0m\u001b[0mcurrent_node\u001b[0m \u001b[0;34m=\u001b[0m \u001b[0mself\u001b[0m\u001b[0;34m.\u001b[0m\u001b[0mcurrent_node\u001b[0m\u001b[0;34m.\u001b[0m\u001b[0mleft\u001b[0m\u001b[0;34m\u001b[0m\u001b[0m\n\u001b[0;32m---> 82\u001b[0;31m         \u001b[0mself\u001b[0m\u001b[0;34m.\u001b[0m\u001b[0mgenerate\u001b[0m\u001b[0;34m(\u001b[0m\u001b[0;34m)\u001b[0m\u001b[0;34m\u001b[0m\u001b[0m\n\u001b[0m\u001b[1;32m     83\u001b[0m \u001b[0;34m\u001b[0m\u001b[0m\n\u001b[1;32m     84\u001b[0m         \u001b[0mself\u001b[0m\u001b[0;34m.\u001b[0m\u001b[0mcurrent_node\u001b[0m \u001b[0;34m=\u001b[0m \u001b[0mself\u001b[0m\u001b[0;34m.\u001b[0m\u001b[0mcurrent_node\u001b[0m\u001b[0;34m.\u001b[0m\u001b[0mright\u001b[0m\u001b[0;34m\u001b[0m\u001b[0m\n",
      "\u001b[0;32m<ipython-input-63-9f8311f8b269>\u001b[0m in \u001b[0;36mgenerate\u001b[0;34m(self)\u001b[0m\n\u001b[1;32m     83\u001b[0m \u001b[0;34m\u001b[0m\u001b[0m\n\u001b[1;32m     84\u001b[0m         \u001b[0mself\u001b[0m\u001b[0;34m.\u001b[0m\u001b[0mcurrent_node\u001b[0m \u001b[0;34m=\u001b[0m \u001b[0mself\u001b[0m\u001b[0;34m.\u001b[0m\u001b[0mcurrent_node\u001b[0m\u001b[0;34m.\u001b[0m\u001b[0mright\u001b[0m\u001b[0;34m\u001b[0m\u001b[0m\n\u001b[0;32m---> 85\u001b[0;31m         \u001b[0mself\u001b[0m\u001b[0;34m.\u001b[0m\u001b[0mgenerate\u001b[0m\u001b[0;34m(\u001b[0m\u001b[0;34m)\u001b[0m\u001b[0;34m\u001b[0m\u001b[0m\n\u001b[0m\u001b[1;32m     86\u001b[0m \u001b[0;34m\u001b[0m\u001b[0m\n\u001b[1;32m     87\u001b[0m     \u001b[0;32mdef\u001b[0m \u001b[0mreset\u001b[0m\u001b[0;34m(\u001b[0m\u001b[0mself\u001b[0m\u001b[0;34m)\u001b[0m\u001b[0;34m:\u001b[0m\u001b[0;34m\u001b[0m\u001b[0m\n",
      "\u001b[0;32m<ipython-input-63-9f8311f8b269>\u001b[0m in \u001b[0;36mgenerate\u001b[0;34m(self)\u001b[0m\n\u001b[1;32m     71\u001b[0m     \u001b[0;32mdef\u001b[0m \u001b[0mgenerate\u001b[0m\u001b[0;34m(\u001b[0m\u001b[0mself\u001b[0m\u001b[0;34m)\u001b[0m\u001b[0;34m:\u001b[0m\u001b[0;34m\u001b[0m\u001b[0m\n\u001b[1;32m     72\u001b[0m \u001b[0;34m\u001b[0m\u001b[0m\n\u001b[0;32m---> 73\u001b[0;31m         \u001b[0;32mif\u001b[0m \u001b[0;32mnot\u001b[0m \u001b[0mself\u001b[0m\u001b[0;34m.\u001b[0m\u001b[0mcheck_split\u001b[0m\u001b[0;34m(\u001b[0m\u001b[0;34m)\u001b[0m\u001b[0;34m:\u001b[0m\u001b[0;34m\u001b[0m\u001b[0m\n\u001b[0m\u001b[1;32m     74\u001b[0m             \u001b[0;32mreturn\u001b[0m\u001b[0;34m\u001b[0m\u001b[0m\n\u001b[1;32m     75\u001b[0m \u001b[0;34m\u001b[0m\u001b[0m\n",
      "\u001b[0;32m<ipython-input-63-9f8311f8b269>\u001b[0m in \u001b[0;36mcheck_split\u001b[0;34m(self)\u001b[0m\n\u001b[1;32m     55\u001b[0m \u001b[0;34m\u001b[0m\u001b[0m\n\u001b[1;32m     56\u001b[0m     \u001b[0;32mdef\u001b[0m \u001b[0mcheck_split\u001b[0m\u001b[0;34m(\u001b[0m\u001b[0mself\u001b[0m\u001b[0;34m)\u001b[0m\u001b[0;34m:\u001b[0m\u001b[0;34m\u001b[0m\u001b[0m\n\u001b[0;32m---> 57\u001b[0;31m         \u001b[0;32mif\u001b[0m \u001b[0mlen\u001b[0m\u001b[0;34m(\u001b[0m\u001b[0mself\u001b[0m\u001b[0;34m.\u001b[0m\u001b[0mcurrent_node\u001b[0m\u001b[0;34m.\u001b[0m\u001b[0mdata\u001b[0m\u001b[0;34m)\u001b[0m \u001b[0;34m==\u001b[0m \u001b[0;36m1\u001b[0m\u001b[0;34m:\u001b[0m\u001b[0;34m\u001b[0m\u001b[0m\n\u001b[0m\u001b[1;32m     58\u001b[0m             \u001b[0;32mreturn\u001b[0m \u001b[0;32mFalse\u001b[0m\u001b[0;34m\u001b[0m\u001b[0m\n\u001b[1;32m     59\u001b[0m \u001b[0;34m\u001b[0m\u001b[0m\n",
      "\u001b[0;31mAttributeError\u001b[0m: 'NoneType' object has no attribute 'data'"
     ]
    }
   ],
   "source": [
    "tree = Tree(data)\n",
    "tree.generate()"
   ]
  },
  {
   "cell_type": "code",
   "execution_count": 40,
   "metadata": {
    "collapsed": false
   },
   "outputs": [
    {
     "name": "stdout",
     "output_type": "stream",
     "text": [
      "(80, 1) (80, 1) (80, 2)\n"
     ]
    }
   ],
   "source": [
    "rng = np.random.RandomState(1)\n",
    "X = np.sort(5 * rng.rand(80, 1), axis=0)\n",
    "y = np.sin(X).ravel()\n",
    "y[::5] += 3 * (0.5 - rng.rand(16))\n",
    "y = y.reshape(-1, 1)\n",
    "\n",
    "data = np.hstack((X, y))\n",
    "\n",
    "print(X.shape, y.shape, data.shape)\n"
   ]
  },
  {
   "cell_type": "code",
   "execution_count": 26,
   "metadata": {
    "collapsed": false
   },
   "outputs": [
    {
     "data": {
      "text/plain": [
       "<matplotlib.collections.PathCollection at 0x10ee77ef0>"
      ]
     },
     "execution_count": 26,
     "metadata": {},
     "output_type": "execute_result"
    },
    {
     "data": {
      "image/png": "[encoded data removed]",
      "text/plain": [
       "<matplotlib.figure.Figure at 0x10ecfda58>"
      ]
     },
     "metadata": {},
     "output_type": "display_data"
    }
   ],
   "source": [
    "import matplotlib.pyplot as plt\n",
    "%matplotlib inline\n",
    "\n",
    "plt.scatter(X, y)"
   ]
  },
  {
   "cell_type": "code",
   "execution_count": null,
   "metadata": {
    "collapsed": true
   },
   "outputs": [],
   "source": []
  }
 ],
 "metadata": {
  "kernelspec": {
   "display_name": "Python 3",
   "language": "python",
   "name": "python3"
  },
  "language_info": {
   "codemirror_mode": {
    "name": "ipython",
    "version": 3
   },
   "file_extension": ".py",
   "mimetype": "text/x-python",
   "name": "python",
   "nbconvert_exporter": "python",
   "pygments_lexer": "ipython3",
   "version": "3.6.0"
  }
 },
 "nbformat": 4,
 "nbformat_minor": 2
}
